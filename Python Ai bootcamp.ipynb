{
  "nbformat": 4,
  "nbformat_minor": 0,
  "metadata": {
    "colab": {
      "provenance": [],
      "authorship_tag": "ABX9TyO++IlARTKGcdYKGKxCiweB",
      "include_colab_link": true
    },
    "kernelspec": {
      "name": "python3",
      "display_name": "Python 3"
    },
    "language_info": {
      "name": "python"
    }
  },
  "cells": [
    {
      "cell_type": "markdown",
      "metadata": {
        "id": "view-in-github",
        "colab_type": "text"
      },
      "source": [
        "<a href=\"https://colab.research.google.com/github/Izelaceso/AI-Bootcamp-NIELIT/blob/main/Python%20Ai%20bootcamp.ipynb\" target=\"_parent\"><img src=\"https://colab.research.google.com/assets/colab-badge.svg\" alt=\"Open In Colab\"/></a>"
      ]
    },
    {
      "cell_type": "code",
      "execution_count": 1,
      "metadata": {
        "colab": {
          "base_uri": "https://localhost:8080/"
        },
        "id": "ynB8L6EwcIcE",
        "outputId": "fc4d5cea-e3e6-4e6a-8e63-303fff7db0f6"
      },
      "outputs": [
        {
          "output_type": "stream",
          "name": "stdout",
          "text": [
            "Hello, World!\n"
          ]
        }
      ],
      "source": [
        "\n",
        "print(\"Hello, World!\")\n"
      ]
    },
    {
      "cell_type": "code",
      "source": [
        "a = 5\n",
        "b = 7\n",
        "sum = a + b\n",
        "print(\"The sum of\", a, \"and\", b, \"is\", sum)"
      ],
      "metadata": {
        "colab": {
          "base_uri": "https://localhost:8080/"
        },
        "id": "Rj9uwLnLcSLC",
        "outputId": "1257be58-4cb4-4648-d70f-ad40cebf9ef4"
      },
      "execution_count": 2,
      "outputs": [
        {
          "output_type": "stream",
          "name": "stdout",
          "text": [
            "The sum of 5 and 7 is 12\n"
          ]
        }
      ]
    },
    {
      "cell_type": "code",
      "source": [
        "# This program takes two numbers as input from the user\n",
        "# and prints their product (multiplication)\n",
        "\n",
        "# Taking first number as input from the user\n",
        "num1 = int(input(\"Enter the first number: \"))\n",
        "\n",
        "# Taking second number as input from the user\n",
        "num2 = int(input(\"Enter the second number: \"))\n",
        "\n",
        "# Calculating the product\n",
        "product = num1 * num2\n",
        "\n",
        "# Printing the result\n",
        "print(\"The product of\", num1, \"and\", num2, \"is\", product)\n"
      ],
      "metadata": {
        "colab": {
          "base_uri": "https://localhost:8080/"
        },
        "id": "289IJmZtcXhM",
        "outputId": "2e6032d0-7fe7-41c4-a2f6-cc849f099919"
      },
      "execution_count": 3,
      "outputs": [
        {
          "output_type": "stream",
          "name": "stdout",
          "text": [
            "Enter the first number: 7\n",
            "Enter the second number: 5\n",
            "The product of 7 and 5 is 35\n"
          ]
        }
      ]
    }
  ]
}